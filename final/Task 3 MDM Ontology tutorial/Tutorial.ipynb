{
 "cells": [
  {
   "cell_type": "markdown",
   "metadata": {},
   "source": [
    "# <center>Tutorial for Ontology Creation From Unstructured Data using CoreNLP</center>                         "
   ]
  },
  {
   "cell_type": "markdown",
   "metadata": {},
   "source": [
    "## <center>  <font color='red'>  Introduction to the Ontology Creation </font></center>"
   ]
  },
  {
   "cell_type": "markdown",
   "metadata": {},
   "source": [
    "### Introduction\n",
    "\n",
    "What is Ontology? It is a data model that represents a set of concepts within a domain and the relationships among those concepts. It converts unstructured data into structured data using NLP. Natural Language Processing (NLP) is a part of artificial intelligence that deals with the interaction between computers and humans using the natural language. NLP perform several automated tasks such as automatic summarization, sentiments analysis, speech recognition (Siri, Google Assistant, Alexa), bank systems to analyse credit worthiness assessment, chatbots and many other applications pertaining to the real-world. The application of NLP can find names of people and companies in free texts and can link the names to public records or a directory of the company. (Jackson and I., 2007)\n",
    "\n",
    "![title](archi1.PNG)\n",
    "\n"
   ]
  },
  {
   "cell_type": "markdown",
   "metadata": {},
   "source": [
    "![title](archi.PNG)"
   ]
  },
  {
   "cell_type": "markdown",
   "metadata": {},
   "source": [
    "## <center>  <font color='red'> Coding Part </font><center>"
   ]
  },
  {
   "cell_type": "markdown",
   "metadata": {},
   "source": [
    "### 1. Data Preparation\n",
    "\n",
    "\n",
    "\n"
   ]
  },
  {
   "cell_type": "markdown",
   "metadata": {},
   "source": [
    "## Step 1: Install following packages\n",
    "\n",
    "<br>\n",
    "\n",
    "### Setup and use Stanford CoreNLP Server with Python \n",
    "<br>\n",
    "- To download Stanford CoreNLP, go to https://stanfordnlp.github.io/CoreNLP/index.html#download and click on “Download CoreNLP”. The latest version of Stanford CoreNLP at the time of writing is v3.9.2.<br>\n",
    "\n",
    "- Once the download has completed, unzip the file using the following command: unzip stanford-corenlp-full-2017-06-09.zip <br>\n",
    "\n",
    "- Install Java 8 (if not installed) <br>\n",
    "\n",
    "- Running Stanford CoreNLP Server- Now, we have our environment ready to fire up Stanford CoreNLP Server. To do so, go to the path of the unzipped Stanford CoreNLP and execute the below command: <br>\n",
    "\n",
    " <font color='red'> java -mx4g -cp \"*\" edu.stanford.nlp.pipeline.StanfordCoreNLPServer -annotators \"tokenize,ssplit,pos,lemma,parse,sentiment\" -port 9000 -timeout 30000 </font> \n",
    " \n",
    " https://www.khalidalnajjar.com/setup-use-stanford-corenlp-server-python/"
   ]
  },
  {
   "cell_type": "markdown",
   "metadata": {},
   "source": [
    "## Step 2: Accessing Stanford CoreNLP Server using Python"
   ]
  },
  {
   "cell_type": "code",
   "execution_count": 1,
   "metadata": {},
   "outputs": [],
   "source": [
    "\n",
    "from stanfordcorenlp import StanfordCoreNLP #pip install stanfordcorenlp\n",
    "#In this code, I am using the python package “stanfordcorenlp”. \n",
    "#Below is a sample code for accessing the server and analysing some text.\n",
    "import logging\n",
    "import json\n",
    "import pandas as pd\n",
    "# from nltk.parse.stanford import StanfordDependencyParser\n",
    "import os\n",
    "import numpy as np\n",
    "from graphviz import Source\n",
    "from nltk.tree import *"
   ]
  },
  {
   "cell_type": "markdown",
   "metadata": {},
   "source": [
    "###  Natural Language Processing Task\n",
    "\n",
    "The following points describe syntactic and semantic natural language processing tasks that\n",
    "are used for the annotation of text corpora with relevant features."
   ]
  },
  {
   "cell_type": "code",
   "execution_count": 2,
   "metadata": {},
   "outputs": [],
   "source": [
    "\n",
    "class StanfordNLP:\n",
    "    def __init__(self, host='http://localhost', port=9000):\n",
    "        self.nlp = StanfordCoreNLP(host, port=port,\n",
    "                                   timeout=30000)  # , quiet=False, logging_level=logging.DEBUG)\n",
    "        self.props = {\n",
    "            'annotators': 'tokenize,ssplit,pos,lemma,ner,parse,depparse,dcoref,relation',\n",
    "            'pipelineLanguage': 'en',\n",
    "            'outputFormat': 'json'\n",
    "        }\n",
    "\n",
    "    def word_tokenize(self, sentence):\n",
    "        return self.nlp.word_tokenize(sentence)\n",
    "\n",
    "    def pos(self, sentence):\n",
    "        return self.nlp.pos_tag(sentence)\n",
    "\n",
    "    def ner(self, sentence):\n",
    "        return self.nlp.ner(sentence)\n",
    "\n",
    "    def parse(self, sentence):\n",
    "        return self.nlp.parse(sentence)\n",
    "\n",
    "    def dependency_parse(self, sentence):\n",
    "        return self.nlp.dependency_parse(sentence)\n",
    "\n",
    "    def annotate(self, sentence):\n",
    "        return json.loads(self.nlp.annotate(sentence, properties=self.props))\n",
    "    \n",
    "\n",
    "    @staticmethod\n",
    "    def tokens_to_dict(_tokens):\n",
    "        tokens = defaultdict(dict)\n",
    "        for token in _tokens:\n",
    "            tokens[int(token['index'])] = {\n",
    "                'word': token['word'],\n",
    "                'lemma': token['lemma'],\n",
    "                'pos': token['pos'],\n",
    "                'ner': token['ner']\n",
    "            }\n",
    "        return tokens"
   ]
  },
  {
   "cell_type": "markdown",
   "metadata": {},
   "source": [
    "## Step 3: Calling Stanford Function"
   ]
  },
  {
   "cell_type": "code",
   "execution_count": 3,
   "metadata": {},
   "outputs": [],
   "source": [
    "if __name__ == '__main__':\n",
    "    sNLP = StanfordNLP()\n",
    "    text= \"Rooney joined the Everton youth team at the age of 9 and made his professional debut for the club in 2002 at the age of 16.\"    \n",
    "    "
   ]
  },
  {
   "cell_type": "markdown",
   "metadata": {},
   "source": [
    "\n",
    "### Tokenization and sentence splitting\n",
    "\n",
    "Tokenization is the first step of the natural language processing task which tokenizes the sentence\n",
    "into the sequence of tokens. Sentence splitting is often used in combination with the tokenization\n",
    "at the same time.\n"
   ]
  },
  {
   "cell_type": "markdown",
   "metadata": {},
   "source": [
    "### i) Annotation"
   ]
  },
  {
   "cell_type": "code",
   "execution_count": 4,
   "metadata": {},
   "outputs": [
    {
     "name": "stdout",
     "output_type": "stream",
     "text": [
      "Annotate: {'sentences': [{'index': 0, 'parse': '(ROOT\\r\\n  (S\\r\\n    (NP (NNP Rooney))\\r\\n    (VP\\r\\n      (VP (VBD joined)\\r\\n        (NP (DT the) (NNP Everton) (NN youth) (NN team))\\r\\n        (PP (IN at)\\r\\n          (NP\\r\\n            (NP (DT the) (NN age))\\r\\n            (PP (IN of)\\r\\n              (NP (CD 9))))))\\r\\n      (CC and)\\r\\n      (VP (VBD made)\\r\\n        (NP (PRP$ his) (JJ professional) (NN debut))\\r\\n        (PP (IN for)\\r\\n          (NP\\r\\n            (NP (DT the) (NN club))\\r\\n            (PP (IN in)\\r\\n              (NP (CD 2002)))))\\r\\n        (PP (IN at)\\r\\n          (NP\\r\\n            (NP (DT the) (NN age))\\r\\n            (PP (IN of)\\r\\n              (NP (CD 16)))))))\\r\\n    (. .)))', 'basicDependencies': [{'dep': 'ROOT', 'governor': 0, 'governorGloss': 'ROOT', 'dependent': 2, 'dependentGloss': 'joined'}, {'dep': 'nsubj', 'governor': 2, 'governorGloss': 'joined', 'dependent': 1, 'dependentGloss': 'Rooney'}, {'dep': 'det', 'governor': 6, 'governorGloss': 'team', 'dependent': 3, 'dependentGloss': 'the'}, {'dep': 'compound', 'governor': 6, 'governorGloss': 'team', 'dependent': 4, 'dependentGloss': 'Everton'}, {'dep': 'compound', 'governor': 6, 'governorGloss': 'team', 'dependent': 5, 'dependentGloss': 'youth'}, {'dep': 'dobj', 'governor': 2, 'governorGloss': 'joined', 'dependent': 6, 'dependentGloss': 'team'}, {'dep': 'case', 'governor': 9, 'governorGloss': 'age', 'dependent': 7, 'dependentGloss': 'at'}, {'dep': 'det', 'governor': 9, 'governorGloss': 'age', 'dependent': 8, 'dependentGloss': 'the'}, {'dep': 'nmod', 'governor': 2, 'governorGloss': 'joined', 'dependent': 9, 'dependentGloss': 'age'}, {'dep': 'case', 'governor': 11, 'governorGloss': '9', 'dependent': 10, 'dependentGloss': 'of'}, {'dep': 'nmod', 'governor': 9, 'governorGloss': 'age', 'dependent': 11, 'dependentGloss': '9'}, {'dep': 'cc', 'governor': 2, 'governorGloss': 'joined', 'dependent': 12, 'dependentGloss': 'and'}, {'dep': 'conj', 'governor': 2, 'governorGloss': 'joined', 'dependent': 13, 'dependentGloss': 'made'}, {'dep': 'nmod:poss', 'governor': 16, 'governorGloss': 'debut', 'dependent': 14, 'dependentGloss': 'his'}, {'dep': 'amod', 'governor': 16, 'governorGloss': 'debut', 'dependent': 15, 'dependentGloss': 'professional'}, {'dep': 'dobj', 'governor': 13, 'governorGloss': 'made', 'dependent': 16, 'dependentGloss': 'debut'}, {'dep': 'case', 'governor': 19, 'governorGloss': 'club', 'dependent': 17, 'dependentGloss': 'for'}, {'dep': 'det', 'governor': 19, 'governorGloss': 'club', 'dependent': 18, 'dependentGloss': 'the'}, {'dep': 'nmod', 'governor': 13, 'governorGloss': 'made', 'dependent': 19, 'dependentGloss': 'club'}, {'dep': 'case', 'governor': 21, 'governorGloss': '2002', 'dependent': 20, 'dependentGloss': 'in'}, {'dep': 'nmod', 'governor': 13, 'governorGloss': 'made', 'dependent': 21, 'dependentGloss': '2002'}, {'dep': 'case', 'governor': 24, 'governorGloss': 'age', 'dependent': 22, 'dependentGloss': 'at'}, {'dep': 'det', 'governor': 24, 'governorGloss': 'age', 'dependent': 23, 'dependentGloss': 'the'}, {'dep': 'nmod', 'governor': 13, 'governorGloss': 'made', 'dependent': 24, 'dependentGloss': 'age'}, {'dep': 'case', 'governor': 26, 'governorGloss': '16', 'dependent': 25, 'dependentGloss': 'of'}, {'dep': 'nmod', 'governor': 24, 'governorGloss': 'age', 'dependent': 26, 'dependentGloss': '16'}, {'dep': 'punct', 'governor': 2, 'governorGloss': 'joined', 'dependent': 27, 'dependentGloss': '.'}], 'enhancedDependencies': [{'dep': 'ROOT', 'governor': 0, 'governorGloss': 'ROOT', 'dependent': 2, 'dependentGloss': 'joined'}, {'dep': 'nsubj', 'governor': 2, 'governorGloss': 'joined', 'dependent': 1, 'dependentGloss': 'Rooney'}, {'dep': 'nsubj', 'governor': 13, 'governorGloss': 'made', 'dependent': 1, 'dependentGloss': 'Rooney'}, {'dep': 'det', 'governor': 6, 'governorGloss': 'team', 'dependent': 3, 'dependentGloss': 'the'}, {'dep': 'compound', 'governor': 6, 'governorGloss': 'team', 'dependent': 4, 'dependentGloss': 'Everton'}, {'dep': 'compound', 'governor': 6, 'governorGloss': 'team', 'dependent': 5, 'dependentGloss': 'youth'}, {'dep': 'dobj', 'governor': 2, 'governorGloss': 'joined', 'dependent': 6, 'dependentGloss': 'team'}, {'dep': 'case', 'governor': 9, 'governorGloss': 'age', 'dependent': 7, 'dependentGloss': 'at'}, {'dep': 'det', 'governor': 9, 'governorGloss': 'age', 'dependent': 8, 'dependentGloss': 'the'}, {'dep': 'nmod:at', 'governor': 2, 'governorGloss': 'joined', 'dependent': 9, 'dependentGloss': 'age'}, {'dep': 'case', 'governor': 11, 'governorGloss': '9', 'dependent': 10, 'dependentGloss': 'of'}, {'dep': 'nmod:of', 'governor': 9, 'governorGloss': 'age', 'dependent': 11, 'dependentGloss': '9'}, {'dep': 'cc', 'governor': 2, 'governorGloss': 'joined', 'dependent': 12, 'dependentGloss': 'and'}, {'dep': 'conj:and', 'governor': 2, 'governorGloss': 'joined', 'dependent': 13, 'dependentGloss': 'made'}, {'dep': 'nmod:poss', 'governor': 16, 'governorGloss': 'debut', 'dependent': 14, 'dependentGloss': 'his'}, {'dep': 'amod', 'governor': 16, 'governorGloss': 'debut', 'dependent': 15, 'dependentGloss': 'professional'}, {'dep': 'dobj', 'governor': 13, 'governorGloss': 'made', 'dependent': 16, 'dependentGloss': 'debut'}, {'dep': 'case', 'governor': 19, 'governorGloss': 'club', 'dependent': 17, 'dependentGloss': 'for'}, {'dep': 'det', 'governor': 19, 'governorGloss': 'club', 'dependent': 18, 'dependentGloss': 'the'}, {'dep': 'nmod:for', 'governor': 13, 'governorGloss': 'made', 'dependent': 19, 'dependentGloss': 'club'}, {'dep': 'case', 'governor': 21, 'governorGloss': '2002', 'dependent': 20, 'dependentGloss': 'in'}, {'dep': 'nmod:in', 'governor': 13, 'governorGloss': 'made', 'dependent': 21, 'dependentGloss': '2002'}, {'dep': 'case', 'governor': 24, 'governorGloss': 'age', 'dependent': 22, 'dependentGloss': 'at'}, {'dep': 'det', 'governor': 24, 'governorGloss': 'age', 'dependent': 23, 'dependentGloss': 'the'}, {'dep': 'nmod:at', 'governor': 13, 'governorGloss': 'made', 'dependent': 24, 'dependentGloss': 'age'}, {'dep': 'case', 'governor': 26, 'governorGloss': '16', 'dependent': 25, 'dependentGloss': 'of'}, {'dep': 'nmod:of', 'governor': 24, 'governorGloss': 'age', 'dependent': 26, 'dependentGloss': '16'}, {'dep': 'punct', 'governor': 2, 'governorGloss': 'joined', 'dependent': 27, 'dependentGloss': '.'}], 'enhancedPlusPlusDependencies': [{'dep': 'ROOT', 'governor': 0, 'governorGloss': 'ROOT', 'dependent': 2, 'dependentGloss': 'joined'}, {'dep': 'nsubj', 'governor': 2, 'governorGloss': 'joined', 'dependent': 1, 'dependentGloss': 'Rooney'}, {'dep': 'nsubj', 'governor': 13, 'governorGloss': 'made', 'dependent': 1, 'dependentGloss': 'Rooney'}, {'dep': 'det', 'governor': 6, 'governorGloss': 'team', 'dependent': 3, 'dependentGloss': 'the'}, {'dep': 'compound', 'governor': 6, 'governorGloss': 'team', 'dependent': 4, 'dependentGloss': 'Everton'}, {'dep': 'compound', 'governor': 6, 'governorGloss': 'team', 'dependent': 5, 'dependentGloss': 'youth'}, {'dep': 'dobj', 'governor': 2, 'governorGloss': 'joined', 'dependent': 6, 'dependentGloss': 'team'}, {'dep': 'case', 'governor': 9, 'governorGloss': 'age', 'dependent': 7, 'dependentGloss': 'at'}, {'dep': 'det', 'governor': 9, 'governorGloss': 'age', 'dependent': 8, 'dependentGloss': 'the'}, {'dep': 'nmod:at', 'governor': 2, 'governorGloss': 'joined', 'dependent': 9, 'dependentGloss': 'age'}, {'dep': 'case', 'governor': 11, 'governorGloss': '9', 'dependent': 10, 'dependentGloss': 'of'}, {'dep': 'nmod:of', 'governor': 9, 'governorGloss': 'age', 'dependent': 11, 'dependentGloss': '9'}, {'dep': 'cc', 'governor': 2, 'governorGloss': 'joined', 'dependent': 12, 'dependentGloss': 'and'}, {'dep': 'conj:and', 'governor': 2, 'governorGloss': 'joined', 'dependent': 13, 'dependentGloss': 'made'}, {'dep': 'nmod:poss', 'governor': 16, 'governorGloss': 'debut', 'dependent': 14, 'dependentGloss': 'his'}, {'dep': 'amod', 'governor': 16, 'governorGloss': 'debut', 'dependent': 15, 'dependentGloss': 'professional'}, {'dep': 'dobj', 'governor': 13, 'governorGloss': 'made', 'dependent': 16, 'dependentGloss': 'debut'}, {'dep': 'case', 'governor': 19, 'governorGloss': 'club', 'dependent': 17, 'dependentGloss': 'for'}, {'dep': 'det', 'governor': 19, 'governorGloss': 'club', 'dependent': 18, 'dependentGloss': 'the'}, {'dep': 'nmod:for', 'governor': 13, 'governorGloss': 'made', 'dependent': 19, 'dependentGloss': 'club'}, {'dep': 'case', 'governor': 21, 'governorGloss': '2002', 'dependent': 20, 'dependentGloss': 'in'}, {'dep': 'nmod:in', 'governor': 13, 'governorGloss': 'made', 'dependent': 21, 'dependentGloss': '2002'}, {'dep': 'case', 'governor': 24, 'governorGloss': 'age', 'dependent': 22, 'dependentGloss': 'at'}, {'dep': 'det', 'governor': 24, 'governorGloss': 'age', 'dependent': 23, 'dependentGloss': 'the'}, {'dep': 'nmod:at', 'governor': 13, 'governorGloss': 'made', 'dependent': 24, 'dependentGloss': 'age'}, {'dep': 'case', 'governor': 26, 'governorGloss': '16', 'dependent': 25, 'dependentGloss': 'of'}, {'dep': 'nmod:of', 'governor': 24, 'governorGloss': 'age', 'dependent': 26, 'dependentGloss': '16'}, {'dep': 'punct', 'governor': 2, 'governorGloss': 'joined', 'dependent': 27, 'dependentGloss': '.'}], 'entitymentions': [{'docTokenBegin': 0, 'docTokenEnd': 1, 'tokenBegin': 0, 'tokenEnd': 1, 'text': 'Rooney', 'characterOffsetBegin': 0, 'characterOffsetEnd': 6, 'ner': 'PERSON'}, {'docTokenBegin': 3, 'docTokenEnd': 4, 'tokenBegin': 3, 'tokenEnd': 4, 'text': 'Everton', 'characterOffsetBegin': 18, 'characterOffsetEnd': 25, 'ner': 'ORGANIZATION'}, {'docTokenBegin': 10, 'docTokenEnd': 11, 'tokenBegin': 10, 'tokenEnd': 11, 'text': '9', 'characterOffsetBegin': 51, 'characterOffsetEnd': 52, 'ner': 'NUMBER', 'normalizedNER': '9.0'}, {'docTokenBegin': 20, 'docTokenEnd': 21, 'tokenBegin': 20, 'tokenEnd': 21, 'text': '2002', 'characterOffsetBegin': 101, 'characterOffsetEnd': 105, 'ner': 'DATE', 'normalizedNER': '2002', 'timex': {'tid': 't1', 'type': 'DATE', 'value': '2002'}}, {'docTokenBegin': 25, 'docTokenEnd': 26, 'tokenBegin': 25, 'tokenEnd': 26, 'text': '16', 'characterOffsetBegin': 120, 'characterOffsetEnd': 122, 'ner': 'NUMBER', 'normalizedNER': '16.0'}, {'docTokenBegin': 13, 'docTokenEnd': 14, 'tokenBegin': 13, 'tokenEnd': 14, 'text': 'his', 'characterOffsetBegin': 62, 'characterOffsetEnd': 65, 'ner': 'PERSON'}], 'tokens': [{'index': 1, 'word': 'Rooney', 'originalText': 'Rooney', 'lemma': 'Rooney', 'characterOffsetBegin': 0, 'characterOffsetEnd': 6, 'pos': 'NNP', 'ner': 'PERSON', 'speaker': 'PER0', 'before': '', 'after': ' '}, {'index': 2, 'word': 'joined', 'originalText': 'joined', 'lemma': 'join', 'characterOffsetBegin': 7, 'characterOffsetEnd': 13, 'pos': 'VBD', 'ner': 'O', 'speaker': 'PER0', 'before': ' ', 'after': ' '}, {'index': 3, 'word': 'the', 'originalText': 'the', 'lemma': 'the', 'characterOffsetBegin': 14, 'characterOffsetEnd': 17, 'pos': 'DT', 'ner': 'O', 'speaker': 'PER0', 'before': ' ', 'after': ' '}, {'index': 4, 'word': 'Everton', 'originalText': 'Everton', 'lemma': 'Everton', 'characterOffsetBegin': 18, 'characterOffsetEnd': 25, 'pos': 'NNP', 'ner': 'ORGANIZATION', 'speaker': 'PER0', 'before': ' ', 'after': ' '}, {'index': 5, 'word': 'youth', 'originalText': 'youth', 'lemma': 'youth', 'characterOffsetBegin': 26, 'characterOffsetEnd': 31, 'pos': 'NN', 'ner': 'O', 'speaker': 'PER0', 'before': ' ', 'after': ' '}, {'index': 6, 'word': 'team', 'originalText': 'team', 'lemma': 'team', 'characterOffsetBegin': 32, 'characterOffsetEnd': 36, 'pos': 'NN', 'ner': 'O', 'speaker': 'PER0', 'before': ' ', 'after': ' '}, {'index': 7, 'word': 'at', 'originalText': 'at', 'lemma': 'at', 'characterOffsetBegin': 37, 'characterOffsetEnd': 39, 'pos': 'IN', 'ner': 'O', 'speaker': 'PER0', 'before': ' ', 'after': ' '}, {'index': 8, 'word': 'the', 'originalText': 'the', 'lemma': 'the', 'characterOffsetBegin': 40, 'characterOffsetEnd': 43, 'pos': 'DT', 'ner': 'O', 'speaker': 'PER0', 'before': ' ', 'after': ' '}, {'index': 9, 'word': 'age', 'originalText': 'age', 'lemma': 'age', 'characterOffsetBegin': 44, 'characterOffsetEnd': 47, 'pos': 'NN', 'ner': 'O', 'speaker': 'PER0', 'before': ' ', 'after': ' '}, {'index': 10, 'word': 'of', 'originalText': 'of', 'lemma': 'of', 'characterOffsetBegin': 48, 'characterOffsetEnd': 50, 'pos': 'IN', 'ner': 'O', 'speaker': 'PER0', 'before': ' ', 'after': ' '}, {'index': 11, 'word': '9', 'originalText': '9', 'lemma': '9', 'characterOffsetBegin': 51, 'characterOffsetEnd': 52, 'pos': 'CD', 'ner': 'NUMBER', 'normalizedNER': '9.0', 'speaker': 'PER0', 'before': ' ', 'after': ' '}, {'index': 12, 'word': 'and', 'originalText': 'and', 'lemma': 'and', 'characterOffsetBegin': 53, 'characterOffsetEnd': 56, 'pos': 'CC', 'ner': 'O', 'speaker': 'PER0', 'before': ' ', 'after': ' '}, {'index': 13, 'word': 'made', 'originalText': 'made', 'lemma': 'make', 'characterOffsetBegin': 57, 'characterOffsetEnd': 61, 'pos': 'VBD', 'ner': 'O', 'speaker': 'PER0', 'before': ' ', 'after': ' '}, {'index': 14, 'word': 'his', 'originalText': 'his', 'lemma': 'he', 'characterOffsetBegin': 62, 'characterOffsetEnd': 65, 'pos': 'PRP$', 'ner': 'O', 'speaker': 'PER0', 'before': ' ', 'after': ' '}, {'index': 15, 'word': 'professional', 'originalText': 'professional', 'lemma': 'professional', 'characterOffsetBegin': 66, 'characterOffsetEnd': 78, 'pos': 'JJ', 'ner': 'O', 'speaker': 'PER0', 'before': ' ', 'after': ' '}, {'index': 16, 'word': 'debut', 'originalText': 'debut', 'lemma': 'debut', 'characterOffsetBegin': 79, 'characterOffsetEnd': 84, 'pos': 'NN', 'ner': 'O', 'speaker': 'PER0', 'before': ' ', 'after': ' '}, {'index': 17, 'word': 'for', 'originalText': 'for', 'lemma': 'for', 'characterOffsetBegin': 85, 'characterOffsetEnd': 88, 'pos': 'IN', 'ner': 'O', 'speaker': 'PER0', 'before': ' ', 'after': ' '}, {'index': 18, 'word': 'the', 'originalText': 'the', 'lemma': 'the', 'characterOffsetBegin': 89, 'characterOffsetEnd': 92, 'pos': 'DT', 'ner': 'O', 'speaker': 'PER0', 'before': ' ', 'after': ' '}, {'index': 19, 'word': 'club', 'originalText': 'club', 'lemma': 'club', 'characterOffsetBegin': 93, 'characterOffsetEnd': 97, 'pos': 'NN', 'ner': 'O', 'speaker': 'PER0', 'before': ' ', 'after': ' '}, {'index': 20, 'word': 'in', 'originalText': 'in', 'lemma': 'in', 'characterOffsetBegin': 98, 'characterOffsetEnd': 100, 'pos': 'IN', 'ner': 'O', 'speaker': 'PER0', 'before': ' ', 'after': ' '}, {'index': 21, 'word': '2002', 'originalText': '2002', 'lemma': '2002', 'characterOffsetBegin': 101, 'characterOffsetEnd': 105, 'pos': 'CD', 'ner': 'DATE', 'normalizedNER': '2002', 'speaker': 'PER0', 'before': ' ', 'after': ' ', 'timex': {'tid': 't1', 'type': 'DATE', 'value': '2002'}}, {'index': 22, 'word': 'at', 'originalText': 'at', 'lemma': 'at', 'characterOffsetBegin': 106, 'characterOffsetEnd': 108, 'pos': 'IN', 'ner': 'O', 'speaker': 'PER0', 'before': ' ', 'after': ' '}, {'index': 23, 'word': 'the', 'originalText': 'the', 'lemma': 'the', 'characterOffsetBegin': 109, 'characterOffsetEnd': 112, 'pos': 'DT', 'ner': 'O', 'speaker': 'PER0', 'before': ' ', 'after': ' '}, {'index': 24, 'word': 'age', 'originalText': 'age', 'lemma': 'age', 'characterOffsetBegin': 113, 'characterOffsetEnd': 116, 'pos': 'NN', 'ner': 'O', 'speaker': 'PER0', 'before': ' ', 'after': ' '}, {'index': 25, 'word': 'of', 'originalText': 'of', 'lemma': 'of', 'characterOffsetBegin': 117, 'characterOffsetEnd': 119, 'pos': 'IN', 'ner': 'O', 'speaker': 'PER0', 'before': ' ', 'after': ' '}, {'index': 26, 'word': '16', 'originalText': '16', 'lemma': '16', 'characterOffsetBegin': 120, 'characterOffsetEnd': 122, 'pos': 'CD', 'ner': 'NUMBER', 'normalizedNER': '16.0', 'speaker': 'PER0', 'before': ' ', 'after': ''}, {'index': 27, 'word': '.', 'originalText': '.', 'lemma': '.', 'characterOffsetBegin': 122, 'characterOffsetEnd': 123, 'pos': '.', 'ner': 'O', 'speaker': 'PER0', 'before': '', 'after': ''}]}], 'corefs': {'1': [{'id': 1, 'text': 'Rooney', 'type': 'PROPER', 'number': 'SINGULAR', 'gender': 'MALE', 'animacy': 'ANIMATE', 'startIndex': 1, 'endIndex': 2, 'headIndex': 1, 'sentNum': 1, 'position': [1, 1], 'isRepresentativeMention': True}, {'id': 8, 'text': 'his', 'type': 'PRONOMINAL', 'number': 'SINGULAR', 'gender': 'MALE', 'animacy': 'ANIMATE', 'startIndex': 14, 'endIndex': 15, 'headIndex': 14, 'sentNum': 1, 'position': [1, 7], 'isRepresentativeMention': False}], '2': [{'id': 2, 'text': 'Everton', 'type': 'PROPER', 'number': 'UNKNOWN', 'gender': 'UNKNOWN', 'animacy': 'INANIMATE', 'startIndex': 4, 'endIndex': 5, 'headIndex': 4, 'sentNum': 1, 'position': [1, 3], 'isRepresentativeMention': True}], '3': [{'id': 3, 'text': '9', 'type': 'PROPER', 'number': 'SINGULAR', 'gender': 'UNKNOWN', 'animacy': 'INANIMATE', 'startIndex': 11, 'endIndex': 12, 'headIndex': 11, 'sentNum': 1, 'position': [1, 5], 'isRepresentativeMention': True}], '4': [{'id': 4, 'text': '16', 'type': 'PROPER', 'number': 'SINGULAR', 'gender': 'UNKNOWN', 'animacy': 'INANIMATE', 'startIndex': 26, 'endIndex': 27, 'headIndex': 26, 'sentNum': 1, 'position': [1, 11], 'isRepresentativeMention': True}], '5': [{'id': 5, 'text': 'the Everton youth team', 'type': 'NOMINAL', 'number': 'SINGULAR', 'gender': 'NEUTRAL', 'animacy': 'INANIMATE', 'startIndex': 3, 'endIndex': 7, 'headIndex': 6, 'sentNum': 1, 'position': [1, 2], 'isRepresentativeMention': True}], '6': [{'id': 6, 'text': 'the age of 9', 'type': 'NOMINAL', 'number': 'SINGULAR', 'gender': 'UNKNOWN', 'animacy': 'INANIMATE', 'startIndex': 8, 'endIndex': 12, 'headIndex': 9, 'sentNum': 1, 'position': [1, 4], 'isRepresentativeMention': True}], '7': [{'id': 7, 'text': 'his professional debut', 'type': 'NOMINAL', 'number': 'SINGULAR', 'gender': 'UNKNOWN', 'animacy': 'INANIMATE', 'startIndex': 14, 'endIndex': 17, 'headIndex': 16, 'sentNum': 1, 'position': [1, 6], 'isRepresentativeMention': True}], '9': [{'id': 9, 'text': 'the club in 2002', 'type': 'NOMINAL', 'number': 'SINGULAR', 'gender': 'NEUTRAL', 'animacy': 'INANIMATE', 'startIndex': 18, 'endIndex': 22, 'headIndex': 19, 'sentNum': 1, 'position': [1, 8], 'isRepresentativeMention': True}], '10': [{'id': 10, 'text': '2002', 'type': 'PROPER', 'number': 'SINGULAR', 'gender': 'UNKNOWN', 'animacy': 'INANIMATE', 'startIndex': 21, 'endIndex': 22, 'headIndex': 21, 'sentNum': 1, 'position': [1, 9], 'isRepresentativeMention': True}], '11': [{'id': 11, 'text': 'the age of 16', 'type': 'NOMINAL', 'number': 'SINGULAR', 'gender': 'UNKNOWN', 'animacy': 'INANIMATE', 'startIndex': 23, 'endIndex': 27, 'headIndex': 24, 'sentNum': 1, 'position': [1, 10], 'isRepresentativeMention': True}]}}\n"
     ]
    }
   ],
   "source": [
    "print (\"Annotate:\", sNLP.annotate(text))"
   ]
  },
  {
   "cell_type": "markdown",
   "metadata": {},
   "source": [
    "### ii) Part of speech tagging\n",
    "\n",
    "Part of speech tagging annotates each token with their part of speech, such as noun, verb, adjective based on its content and definition."
   ]
  },
  {
   "cell_type": "code",
   "execution_count": 5,
   "metadata": {},
   "outputs": [
    {
     "name": "stdout",
     "output_type": "stream",
     "text": [
      "POS: [('Rooney', 'NNP'), ('joined', 'VBD'), ('the', 'DT'), ('Everton', 'NNP'), ('youth', 'NN'), ('team', 'NN'), ('at', 'IN'), ('the', 'DT'), ('age', 'NN'), ('of', 'IN'), ('9', 'CD'), ('and', 'CC'), ('made', 'VBD'), ('his', 'PRP$'), ('professional', 'JJ'), ('debut', 'NN'), ('for', 'IN'), ('the', 'DT'), ('club', 'NN'), ('in', 'IN'), ('2002', 'CD'), ('at', 'IN'), ('the', 'DT'), ('age', 'NN'), ('of', 'IN'), ('16', 'CD'), ('.', '.')]\n"
     ]
    }
   ],
   "source": [
    "print (\"POS:\", sNLP.pos(text))\n",
    "   "
   ]
  },
  {
   "cell_type": "markdown",
   "metadata": {},
   "source": [
    "### iii) Tokens"
   ]
  },
  {
   "cell_type": "code",
   "execution_count": 6,
   "metadata": {},
   "outputs": [
    {
     "name": "stdout",
     "output_type": "stream",
     "text": [
      "Tokens: ['Rooney', 'joined', 'the', 'Everton', 'youth', 'team', 'at', 'the', 'age', 'of', '9', 'and', 'made', 'his', 'professional', 'debut', 'for', 'the', 'club', 'in', '2002', 'at', 'the', 'age', 'of', '16', '.']\n"
     ]
    }
   ],
   "source": [
    "print (\"Tokens:\", sNLP.word_tokenize(text))\n",
    "  "
   ]
  },
  {
   "cell_type": "markdown",
   "metadata": {},
   "source": [
    "### iii) Name Entity Recognition\n",
    "\n",
    "\n",
    "Name Entity (NE) has a task of finding entities in a text such as a person, location, organization\n",
    "and country."
   ]
  },
  {
   "cell_type": "code",
   "execution_count": 7,
   "metadata": {},
   "outputs": [
    {
     "name": "stdout",
     "output_type": "stream",
     "text": [
      "NER: [('Rooney', 'PERSON'), ('joined', 'O'), ('the', 'O'), ('Everton', 'ORGANIZATION'), ('youth', 'O'), ('team', 'O'), ('at', 'O'), ('the', 'O'), ('age', 'O'), ('of', 'O'), ('9', 'NUMBER'), ('and', 'O'), ('made', 'O'), ('his', 'O'), ('professional', 'O'), ('debut', 'O'), ('for', 'O'), ('the', 'O'), ('club', 'O'), ('in', 'O'), ('2002', 'DATE'), ('at', 'O'), ('the', 'O'), ('age', 'O'), ('of', 'O'), ('16', 'NUMBER'), ('.', 'O')]\n"
     ]
    }
   ],
   "source": [
    "print (\"NER:\", sNLP.ner(text))"
   ]
  },
  {
   "cell_type": "markdown",
   "metadata": {},
   "source": [
    "### iv) Consituency Parser / Shallow parsing\n",
    "\n",
    "Shallow parsing assigns syntactic structure to the tokens. Constituent parsing transmits\n",
    "constituent parts of sentences (noun, verb, adjective) to the constituency parser which connects\n",
    "to the higher-order units that have more grammatical meaning such as noun phrases, preposition\n",
    "phrases and verb phrases.\n"
   ]
  },
  {
   "cell_type": "code",
   "execution_count": 8,
   "metadata": {},
   "outputs": [
    {
     "name": "stdout",
     "output_type": "stream",
     "text": [
      "Parse: (ROOT\r\n",
      "  (S\r\n",
      "    (NP (NNP Rooney))\r\n",
      "    (VP\r\n",
      "      (VP (VBD joined)\r\n",
      "        (NP (DT the) (NNP Everton) (NN youth) (NN team))\r\n",
      "        (PP (IN at)\r\n",
      "          (NP\r\n",
      "            (NP (DT the) (NN age))\r\n",
      "            (PP (IN of)\r\n",
      "              (NP (CD 9))))))\r\n",
      "      (CC and)\r\n",
      "      (VP (VBD made)\r\n",
      "        (NP (PRP$ his) (JJ professional) (NN debut))\r\n",
      "        (PP (IN for)\r\n",
      "          (NP\r\n",
      "            (NP (DT the) (NN club))\r\n",
      "            (PP (IN in)\r\n",
      "              (NP (CD 2002)))))\r\n",
      "        (PP (IN at)\r\n",
      "          (NP\r\n",
      "            (NP (DT the) (NN age))\r\n",
      "            (PP (IN of)\r\n",
      "              (NP (CD 16)))))))\r\n",
      "    (. .)))\n"
     ]
    }
   ],
   "source": [
    "\n",
    "print (\"Parse:\", sNLP.parse(text))"
   ]
  },
  {
   "cell_type": "markdown",
   "metadata": {},
   "source": [
    "####  Pretty Print of Consituency Parser"
   ]
  },
  {
   "cell_type": "code",
   "execution_count": 9,
   "metadata": {},
   "outputs": [
    {
     "name": "stdout",
     "output_type": "stream",
     "text": [
      "                                                                              ROOT                                                                                         \n",
      "                                                                               |                                                                                            \n",
      "                                                                               S                                                                                           \n",
      "   ____________________________________________________________________________|_________________________________________________________________________________________   \n",
      "  |                                                                            VP                                                                                        | \n",
      "  |                               _____________________________________________|___________________________________                                                      |  \n",
      "  |                              VP                                   |                                            VP                                                    | \n",
      "  |       _______________________|________________                    |    ________________________________________|_________________________________                    |  \n",
      "  |      |           |                            PP                  |   |             |                          PP                                PP                  | \n",
      "  |      |           |                 ___________|___                |   |             |               ___________|____                  ___________|___                |  \n",
      "  |      |           |                |               NP              |   |             |              |                NP               |               NP              | \n",
      "  |      |           |                |        _______|_______        |   |             |              |        ________|_______         |        _______|_______        |  \n",
      "  |      |           |                |       |               PP      |   |             |              |       |                PP       |       |               PP      | \n",
      "  |      |           |                |       |            ___|___    |   |             |              |       |             ___|___     |       |            ___|___    |  \n",
      "  NP     |           NP               |       NP          |       NP  |   |             NP             |       NP           |       NP   |       NP          |       NP  | \n",
      "  |      |      _____|___________     |    ___|___        |       |   |   |     ________|_________     |    ___|___         |       |    |    ___|___        |       |   |  \n",
      " NNP    VBD    DT   NNP     NN   NN   IN  DT      NN      IN      CD  CC VBD  PRP$      JJ        NN   IN  DT      NN       IN      CD   IN  DT      NN      IN      CD  . \n",
      "  |      |     |     |      |    |    |   |       |       |       |   |   |    |        |         |    |   |       |        |       |    |   |       |       |       |   |  \n",
      "Rooney joined the Everton youth team  at the     age      of      9  and made his  professional debut for the     club      in     2002  at the     age      of      16  . \n",
      "\n"
     ]
    }
   ],
   "source": [
    "a=sNLP.parse(text)\n",
    "Tree.fromstring(a).pretty_print()"
   ]
  },
  {
   "cell_type": "markdown",
   "metadata": {},
   "source": [
    "### v) Dependency Parser"
   ]
  },
  {
   "cell_type": "code",
   "execution_count": 10,
   "metadata": {},
   "outputs": [
    {
     "name": "stdout",
     "output_type": "stream",
     "text": [
      "Dep Parse: [('ROOT', 0, 2), ('nsubj', 2, 1), ('det', 6, 3), ('compound', 6, 4), ('compound', 6, 5), ('dobj', 2, 6), ('case', 9, 7), ('det', 9, 8), ('nmod', 2, 9), ('case', 11, 10), ('nmod', 9, 11), ('cc', 2, 12), ('conj', 2, 13), ('nmod:poss', 16, 14), ('amod', 16, 15), ('dobj', 13, 16), ('case', 19, 17), ('det', 19, 18), ('nmod', 13, 19), ('case', 21, 20), ('nmod', 13, 21), ('case', 24, 22), ('det', 24, 23), ('nmod', 13, 24), ('case', 26, 25), ('nmod', 24, 26), ('punct', 2, 27)]\n"
     ]
    }
   ],
   "source": [
    "print (\"Dep Parse:\", sNLP.dependency_parse(text))\n",
    "   "
   ]
  },
  {
   "cell_type": "markdown",
   "metadata": {},
   "source": [
    "## Step 4: Relation extraction using OPENIE CoreNLP\n",
    "\n",
    "Relation extraction is a task of determining semantic links between those entities."
   ]
  },
  {
   "cell_type": "code",
   "execution_count": 11,
   "metadata": {},
   "outputs": [
    {
     "name": "stdout",
     "output_type": "stream",
     "text": [
      "Rooney joined the Everton youth team at the age of 9 and made his professional debut for the club in 2002 at the age of 16.\n",
      "\n",
      "\n",
      "('Rooney', 'joined Everton youth team at', 'age of 9')\n",
      "('Rooney', 'made', 'his professional debut')\n",
      "('Rooney', 'made', 'his debut')\n",
      "('Rooney', 'joined Everton youth team at', 'age')\n",
      "('Rooney', 'joined', 'Everton youth team')\n"
     ]
    }
   ],
   "source": [
    "import nltk\n",
    "from pycorenlp import *\n",
    "import collections\n",
    "nlp=StanfordCoreNLP(\"http://localhost:9000/\")\n",
    "print(text )\n",
    "print(\"\\n\")\n",
    "\n",
    "output = nlp.annotate(text, properties={\"annotators\":\"tokenize,ssplit,pos,depparse,natlog,openie\",\n",
    "                                 \"outputFormat\": \"json\",\"triple.strict\":\"true\"})\n",
    "result = [output[\"sentences\"][0][\"openie\"] for item in output]\n",
    "# print(result)\n",
    "for i in result:\n",
    "    for rel in i:\n",
    "        relationSent=rel['subject'],rel['relation'],rel['object'] ### 3. Ontology Creation\n",
    "        print(relationSent)"
   ]
  },
  {
   "cell_type": "code",
   "execution_count": null,
   "metadata": {},
   "outputs": [],
   "source": []
  }
 ],
 "metadata": {
  "kernelspec": {
   "display_name": "Python 3",
   "language": "python",
   "name": "python3"
  },
  "language_info": {
   "codemirror_mode": {
    "name": "ipython",
    "version": 3
   },
   "file_extension": ".py",
   "mimetype": "text/x-python",
   "name": "python",
   "nbconvert_exporter": "python",
   "pygments_lexer": "ipython3",
   "version": "3.8.2"
  }
 },
 "nbformat": 4,
 "nbformat_minor": 4
}
